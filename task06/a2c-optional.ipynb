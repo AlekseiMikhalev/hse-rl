{
 "cells": [
  {
   "cell_type": "code",
   "execution_count": 1,
   "metadata": {
    "collapsed": true
   },
   "outputs": [
    {
     "name": "stdout",
     "output_type": "stream",
     "text": [
      "Starting virtual X frame buffer: Xvfb.\r\n",
      "env: DISPLAY=: 1\n"
     ]
    }
   ],
   "source": [
    "# # in google colab uncomment this\n",
    "\n",
    "# import os\n",
    "\n",
    "# os.system('apt-get install -y xvfb')\n",
    "# os.system('wget https://raw.githubusercontent.com/yandexdataschool/Practical_DL/fall18/xvfb -O ../xvfb')\n",
    "# os.system('apt-get install -y python-opengl ffmpeg')\n",
    "# os.system('pip install pyglet==1.2.4')\n",
    "\n",
    "# os.system('python -m pip install -U pygame --user')\n",
    "\n",
    "# print('setup complete')\n",
    "\n",
    "# XVFB will be launched if you run on a server\n",
    "import os\n",
    "if type(os.environ.get(\"DISPLAY\")) is not str or len(os.environ.get(\"DISPLAY\")) == 0:\n",
    "    !bash ../xvfb start\n",
    "    %env DISPLAY = : 1"
   ]
  },
  {
   "cell_type": "markdown",
   "metadata": {},
   "source": [
    "# Implementing Advantage-Actor Critic (A2C)"
   ]
  },
  {
   "cell_type": "markdown",
   "metadata": {},
   "source": [
    "In this notebook you will implement Advantage Actor Critic algorithm that trains on a batch of Atari 2600 environments running in parallel. \n",
    "\n",
    "Firstly, we will use environment wrappers implemented in file `atari_wrappers.py`. These wrappers preprocess observations (resize, grayscal, take max between frames, skip frames and stack them together) and rewards. Some of the wrappers help to reset the environment and pass `done` flag equal to `True` when agent dies.\n",
    "File `env_batch.py` includes implementation of `ParallelEnvBatch` class that allows to run multiple environments in parallel. To create an environment we can use `nature_dqn_env` function. Note that if you are using \n",
    "PyTorch and not using `tensorboardX` you will need to implement a wrapper that will log **raw** total rewards that the *unwrapped* environment returns and redefine the implemention of `nature_dqn_env` function here. \n",
    "\n"
   ]
  },
  {
   "cell_type": "code",
   "execution_count": 2,
   "metadata": {},
   "outputs": [
    {
     "name": "stdout",
     "output_type": "stream",
     "text": [
      "\n",
      "WARNING: The TensorFlow contrib module will not be included in TensorFlow 2.0.\n",
      "For more information, please see:\n",
      "  * https://github.com/tensorflow/community/blob/master/rfcs/20180907-contrib-sunset.md\n",
      "  * https://github.com/tensorflow/addons\n",
      "If you depend on functionality not listed there, please file an issue.\n",
      "\n"
     ]
    }
   ],
   "source": [
    "import tensorflow as tf\n",
    "\n",
    "tf.enable_eager_execution()\n",
    "\n",
    "summary_writer = tf.contrib.summary.create_file_writer('logs/', flush_millis=1_000)"
   ]
  },
  {
   "cell_type": "code",
   "execution_count": null,
   "metadata": {
    "collapsed": true
   },
   "outputs": [],
   "source": [
    "import numpy as np\n",
    "from atari_wrappers import nature_dqn_env\n",
    "\n",
    "env = nature_dqn_env(\"SpaceInvadersNoFrameskip-v4\", nenvs=8)\n",
    "\n",
    "obs = env.reset()\n",
    "assert obs.shape == (8, 84, 84, 4)\n",
    "assert obs.dtype == np.uint8"
   ]
  },
  {
   "cell_type": "markdown",
   "metadata": {},
   "source": [
    "Next, we will need to implement a model that predicts logits and values. It is suggested that you use the same model as in [Nature DQN paper](https://web.stanford.edu/class/psych209/Readings/MnihEtAlHassibis15NatureControlDeepRL.pdf) with a modification that instead of having a single output layer, it will have two output layers taking as input the output of the last hidden layer. **Note** that this model is different from the model you used in homework where you implemented DQN. You can use your favorite deep learning framework here. We suggest that you use orthogonal initialization with parameter $\\sqrt{2}$ for kernels and initialize biases with zeros. "
   ]
  },
  {
   "cell_type": "code",
   "execution_count": 4,
   "metadata": {},
   "outputs": [],
   "source": [
    "import torch\n",
    "import torch.nn as nn\n",
    "import torch.nn.functional as F"
   ]
  },
  {
   "cell_type": "code",
   "execution_count": 5,
   "metadata": {},
   "outputs": [],
   "source": [
    "class Model(nn.Module):\n",
    "    def __init__(self, n_actions):\n",
    "        super(Model, self).__init__()\n",
    "        self.n_actions = n_actions\n",
    "        self.conv_layers = nn.ModuleList([\n",
    "            nn.Conv2d(in_channels=4, out_channels=32, kernel_size=8, stride=4),\n",
    "            nn.Conv2d(in_channels=32, out_channels=64, kernel_size=4, stride=2),\n",
    "            nn.Conv2d(in_channels=64, out_channels=64, kernel_size=3, stride=1)\n",
    "        ])\n",
    "        \n",
    "        self.linear1 = nn.Linear(in_features=3136, out_features=512)\n",
    "        self.linear2 = nn.Linear(in_features=512, out_features=n_actions)\n",
    "        self.linear3 = nn.Linear(in_features=512, out_features=1)\n",
    "        \n",
    "    def __call__(self, x):\n",
    "        x = x.transpose(-1, 1)\n",
    "        \n",
    "        for layer in self.conv_layers:\n",
    "            x = F.relu(layer(x))\n",
    "        \n",
    "        x = x.view(x.size(0), -1)\n",
    "        x = F.relu(self.linear1(x))\n",
    "        return self.linear2(x), self.linear3(x)"
   ]
  },
  {
   "cell_type": "markdown",
   "metadata": {},
   "source": [
    "You will also need to define and use a policy that wraps the model. While the model computes logits for all actions, the policy will sample actions and also compute their log probabilities.  `policy.act` should return a dictionary of all the arrays that are needed to interact with an environment and train the model.\n",
    " Note that actions must be an `np.ndarray` while the other\n",
    "tensors need to have the type determined by your deep learning framework. "
   ]
  },
  {
   "cell_type": "code",
   "execution_count": 6,
   "metadata": {},
   "outputs": [],
   "source": [
    "class Policy:\n",
    "    def __init__(self, model, eps=0.1):\n",
    "        self.model = model\n",
    "        self.eps = eps\n",
    "        \n",
    "    def act(self, inputs):\n",
    "        inputs = torch.tensor(inputs, dtype=torch.float)\n",
    "        logits, values = self.model(inputs)\n",
    "\n",
    "        actions = torch.argmax(logits, dim=-1).detach().numpy()\n",
    "        random_actions = np.random.randint(0, model.n_actions, size=len(actions))\n",
    "        \n",
    "        # Eps-greedy\n",
    "        mask = np.random.rand(len(actions)) < self.eps\n",
    "        actions[mask] = random_actions[mask]\n",
    "        \n",
    "        log_probs = torch.log_softmax(logits, dim=-1)\n",
    "        \n",
    "        return {\n",
    "            'actions': actions,\n",
    "            'logits': logits,\n",
    "            'log_probs': log_probs,\n",
    "            'values': values.squeeze()\n",
    "        }"
   ]
  },
  {
   "cell_type": "markdown",
   "metadata": {},
   "source": [
    "Next will pass the environment and policy to a runner that collects partial trajectories from the environment. \n",
    "The class that does is is already implemented for you."
   ]
  },
  {
   "cell_type": "code",
   "execution_count": 7,
   "metadata": {
    "collapsed": true
   },
   "outputs": [],
   "source": [
    "from runners import EnvRunner"
   ]
  },
  {
   "cell_type": "markdown",
   "metadata": {},
   "source": [
    "This runner interacts with the environment for a given number of steps and returns a dictionary containing\n",
    "keys \n",
    "\n",
    "* 'observations' \n",
    "* 'rewards' \n",
    "* 'resets'\n",
    "* 'actions'\n",
    "* all other keys that you defined in `Policy`\n",
    "\n",
    "under each of these keys there is a python `list` of interactions with the environment of specified length $T$ &mdash; the size of partial trajectory. "
   ]
  },
  {
   "cell_type": "markdown",
   "metadata": {},
   "source": [
    "To train the part of the model that predicts state values you will need to compute the value targets. \n",
    "Any callable could be passed to `EnvRunner` to be applied to each partial trajectory after it is collected. \n",
    "Thus, we can implement and use `ComputeValueTargets` callable. \n",
    "The formula for the value targets is simple:\n",
    "\n",
    "$$\n",
    "\\hat v(s_t) = \\sum_{t'=0}^{T - 1}\\gamma^{t'}r_{t+t'} + \\gamma^T \\hat{v}(s_{t+T}),\n",
    "$$\n",
    "\n",
    "In implementation, however, do not forget to use \n",
    "`trajectory['resets']` flags to check if you need to add the value targets at the next step when \n",
    "computing value targets for the current step. You can access `trajectory['state']['latest_observations']`\n",
    "to get last observations in partial trajectory &mdash; $s_{t+T}$."
   ]
  },
  {
   "cell_type": "code",
   "execution_count": 8,
   "metadata": {
    "collapsed": true
   },
   "outputs": [],
   "source": [
    "class ComputeValueTargets:\n",
    "    def __init__(self, policy, gamma=0.99):\n",
    "        self.policy = policy\n",
    "        self.gamma = gamma\n",
    "    \n",
    "    def __call__(self, trajectory):\n",
    "        n_steps = trajectory['state']['env_steps']\n",
    "        rewards = np.array(trajectory['rewards'])\n",
    "        resets = np.array(trajectory['resets'], dtype=int)\n",
    "        value = torch.stack(trajectory['values']).detach().numpy()\n",
    "        \n",
    "        act = policy.act(trajectory['state']['latest_observation'])\n",
    "        value_last = act['values'].view(-1).detach().numpy()\n",
    "        \n",
    "        # Calculate value targets\n",
    "        value_targets = np.zeros_like(rewards)\n",
    "        \n",
    "        for i in range(n_steps - 1, -1, -1):\n",
    "            value_next = value_last if i == n_steps - 1 else value_targets[i + 1] \n",
    "            value_targets[i] = rewards[i] + self.gamma * value_next * (1 - resets[i])\n",
    "        \n",
    "        trajectory['value_targets'] = value_targets\n",
    "        \n",
    "        # Calculate advantages\n",
    "        advantages = np.zeros_like(rewards)\n",
    "        \n",
    "        for i in range(n_steps - 1, -1, -1):\n",
    "            value_next = value_last if i == n_steps - 1 else value[i + 1] \n",
    "            advantages[i] = rewards[i] + self.gamma * value_next - value[i]\n",
    "        \n",
    "        trajectory['advantages'] = advantages"
   ]
  },
  {
   "cell_type": "markdown",
   "metadata": {},
   "source": [
    "After computing value targets we will transform lists of interactions into tensors\n",
    "with the first dimension `batch_size` which is equal to `T * nenvs`, i.e. you essentially need\n",
    "to flatten the first two dimensions. "
   ]
  },
  {
   "cell_type": "code",
   "execution_count": 9,
   "metadata": {
    "collapsed": true
   },
   "outputs": [],
   "source": [
    "class MergeTimeBatch:\n",
    "    \"\"\" Merges first two axes typically representing time and env batch. \"\"\"\n",
    "    def __call__(self, trajectory):\n",
    "        for key in 'actions', 'value_targets', 'rewards', 'advantages':\n",
    "            trajectory[key] = np.concatenate(trajectory[key])\n",
    "\n",
    "        for key in ['logits', 'log_probs', 'values']:\n",
    "            trajectory[key] = torch.cat(trajectory[key])"
   ]
  },
  {
   "cell_type": "code",
   "execution_count": 10,
   "metadata": {
    "collapsed": true
   },
   "outputs": [],
   "source": [
    "model = Model(n_actions=env.action_space.n)\n",
    "policy = Policy(model)\n",
    "\n",
    "with summary_writer.as_default(), tf.contrib.summary.always_record_summaries():\n",
    "    runner = EnvRunner(\n",
    "        env=env, \n",
    "        policy=policy, \n",
    "        nsteps=5,\n",
    "        transforms=[ComputeValueTargets(policy), MergeTimeBatch()]\n",
    "    )"
   ]
  },
  {
   "cell_type": "markdown",
   "metadata": {},
   "source": [
    "Now is the time to implement the advantage actor critic algorithm itself. You can look into your lecture,\n",
    "[Mnih et al. 2016](https://arxiv.org/abs/1602.01783) paper, and [lecture](https://www.youtube.com/watch?v=Tol_jw5hWnI&list=PLkFD6_40KJIxJMR-j5A1mkxK26gh_qg37&index=20) by Sergey Levine."
   ]
  },
  {
   "cell_type": "code",
   "execution_count": 11,
   "metadata": {},
   "outputs": [],
   "source": [
    "def to_one_hot(y_tensor, ndims):\n",
    "    \"\"\" helper: take an integer vector and convert it to 1-hot matrix.\"\"\"\n",
    "    y_tensor = y_tensor.type(torch.LongTensor).view(-1, 1)\n",
    "    y_one_hot = torch.zeros(\n",
    "        y_tensor.size()[0], ndims).scatter_(1, y_tensor, 1)\n",
    "    return y_one_hot"
   ]
  },
  {
   "cell_type": "code",
   "execution_count": 12,
   "metadata": {
    "collapsed": true
   },
   "outputs": [],
   "source": [
    "class A2C:\n",
    "    def __init__(self,\n",
    "                 policy,\n",
    "                 optimizer,\n",
    "                 value_loss_coef=0.25,\n",
    "                 entropy_coef=0.01,\n",
    "                 max_grad_norm=0.5):\n",
    "        self.policy = policy\n",
    "        self.optimizer = optimizer\n",
    "        self.value_loss_coef = value_loss_coef\n",
    "        self.entropy_coef = entropy_coef\n",
    "        self.max_grad_norm = max_grad_norm\n",
    "    \n",
    "    def policy_loss(self, trajectory):\n",
    "        log_probs = trajectory['log_probs']\n",
    "        actions = to_one_hot(torch.tensor(trajectory['actions'], dtype=torch.float), policy.model.n_actions)\n",
    "        log_probs_for_actions = torch.sum(log_probs * actions, dim=1)\n",
    "        advantages = torch.tensor(trajectory['advantages'], dtype=torch.float)\n",
    "        \n",
    "        entropy_loss = self.entropy_coef * torch.sum(torch.exp(log_probs_for_actions) * log_probs_for_actions)\n",
    "        policy_loss = -torch.sum(log_probs_for_actions * advantages)\n",
    "        \n",
    "        return policy_loss, entropy_loss\n",
    "    \n",
    "    def value_loss(self, trajectory):\n",
    "        value_targets = torch.tensor(trajectory['value_targets'], dtype=torch.float)\n",
    "        value_loss = F.mse_loss(trajectory['values'], value_targets, reduction='sum')\n",
    "        return self.value_loss_coef * value_loss\n",
    "      \n",
    "    def step(self, trajectory):\n",
    "        policy_loss, entropy_loss = self.policy_loss(trajectory)\n",
    "        value_loss = self.value_loss(trajectory)\n",
    "        \n",
    "        loss = policy_loss + value_loss\n",
    "        \n",
    "        self.optimizer.zero_grad()\n",
    "        loss.backward()\n",
    "        nn.utils.clip_grad_norm_(self.policy.model.parameters(), self.max_grad_norm)\n",
    "        self.optimizer.step()\n",
    "        \n",
    "        return {\n",
    "            'policy_loss': policy_loss.detach().numpy(),\n",
    "            'mean_advantage': trajectory['advantages'],\n",
    "            'mean_values': trajectory['values'].detach().numpy(),\n",
    "            'entropy_loss': entropy_loss.detach().numpy(),\n",
    "            'value_loss': value_loss.detach().numpy(),\n",
    "            'loss': loss.detach().numpy()\n",
    "        }"
   ]
  },
  {
   "cell_type": "markdown",
   "metadata": {},
   "source": [
    "Now you can train your model. With reasonable hyperparameters training on a single GTX1080 for 10 million steps across all batched environments (which translates to about 5 hours of wall clock time)\n",
    "it should be possible to achieve *average raw reward over last 100 episodes* (the average is taken over 100 last \n",
    "episodes in each environment in the batch) of about 600. You should plot this quantity with respect to \n",
    "`runner.step_var` &mdash; the number of interactions with all environments. It is highly \n",
    "encouraged to also provide plots of the following quantities (these are useful for debugging as well):\n",
    "\n",
    "* [Coefficient of Determination](https://en.wikipedia.org/wiki/Coefficient_of_determination) between \n",
    "value targets and value predictions\n",
    "* Entropy of the policy $\\pi$\n",
    "* Value loss\n",
    "* Policy loss\n",
    "* Value targets\n",
    "* Value predictions\n",
    "* Gradient norm\n",
    "* Advantages\n",
    "* A2C loss\n",
    "\n",
    "For optimization we suggest you use RMSProp with learning rate starting from 7e-4 and linearly decayed to 0, smoothing constant (alpha in PyTorch and decay in TensorFlow) equal to 0.99 and epsilon equal to 1e-5."
   ]
  },
  {
   "cell_type": "code",
   "execution_count": 13,
   "metadata": {
    "collapsed": true
   },
   "outputs": [],
   "source": [
    "optimizer = torch.optim.RMSprop(policy.model.parameters(), lr=7e-4, alpha=0.99, eps=1e-5)\n",
    "a2c = A2C(policy, optimizer)"
   ]
  },
  {
   "cell_type": "code",
   "execution_count": null,
   "metadata": {},
   "outputs": [],
   "source": [
    "n_steps = 10_000_000\n",
    "\n",
    "lr_max = 7e-4\n",
    "lr_min = 0\n",
    "lr_step = (lr_max - lr_min) / n_steps\n",
    "\n",
    "with summary_writer.as_default(), tf.contrib.summary.always_record_summaries():\n",
    "    for i in range(n_steps):\n",
    "        lr = lr_max - i * lr_step\n",
    "        for param_group in optimizer.param_groups:\n",
    "            param_group['lr'] = lr\n",
    "        \n",
    "        trajectory = runner.get_next()\n",
    "        losses = a2c.step(trajectory)\n",
    "        \n",
    "        for key, value in losses.items():\n",
    "            tf.contrib.summary.scalar(f'a2c/{key}', value, step=i)\n",
    "        \n",
    "        tf.contrib.summary.scalar(f'a2c/lr', lr, step=i)\n",
    "        runner.env.env.step_var += 1"
   ]
  },
  {
   "cell_type": "code",
   "execution_count": 15,
   "metadata": {},
   "outputs": [
    {
     "name": "stdout",
     "output_type": "stream",
     "text": [
      "Step: 10581\n",
      "Mean reward: 183.9303355547355\n"
     ]
    }
   ],
   "source": [
    "step = runner.env.env.step_var\n",
    "mean_reward = np.mean([np.mean(q) for q in runner.env.env.reward_queues])\n",
    "\n",
    "print(f'Step: {step}')\n",
    "print(f'Mean reward: {mean_reward}')"
   ]
  }
 ],
 "metadata": {
  "kernelspec": {
   "display_name": "Python 3",
   "language": "python",
   "name": "python3"
  },
  "language_info": {
   "codemirror_mode": {
    "name": "ipython",
    "version": 3
   },
   "file_extension": ".py",
   "mimetype": "text/x-python",
   "name": "python",
   "nbconvert_exporter": "python",
   "pygments_lexer": "ipython3",
   "version": "3.6.3"
  }
 },
 "nbformat": 4,
 "nbformat_minor": 2
}
